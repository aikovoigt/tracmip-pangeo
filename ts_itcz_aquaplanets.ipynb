{
 "cells": [
  {
   "cell_type": "markdown",
   "metadata": {},
   "source": [
    "# Calculate global-mean surface temperature and ITCZ positon for TRACMIP aquaplanet runs\n",
    "\n",
    " * Global-mean time-mean surface temperature is calculated for aquaControl and aqua4xCO2 runs, using the last 20 years.\n",
    " * ITCZ is calculated from time-mean zonal-mean precipitation, again using the last 20 years.\n",
    " * For CALTECH model for idealized radiation, the aqua4xCO2 analogue is aquaAbs15.\n",
    " * The calculations correspond to Tab. 4 of Voigt et al., 2016, JAMES, https://agupubs.onlinelibrary.wiley.com/doi/full/10.1002/2016MS000748 ."
   ]
  },
  {
   "cell_type": "markdown",
   "metadata": {},
   "source": [
    "## Load external libraries"
   ]
  },
  {
   "cell_type": "code",
   "execution_count": 1,
   "metadata": {},
   "outputs": [],
   "source": [
    "import numpy as np\n",
    "from intake import open_catalog"
   ]
  },
  {
   "cell_type": "markdown",
   "metadata": {},
   "source": [
    "## Open Tracmip collection"
   ]
  },
  {
   "cell_type": "code",
   "execution_count": 2,
   "metadata": {},
   "outputs": [],
   "source": [
    "# get whole pangeo catalogue\n",
    "cat = open_catalog(\"https://raw.githubusercontent.com/pangeo-data/pangeo-datastore/master/intake-catalogs/climate.yaml\")\n",
    "# select tracmip collection\n",
    "col = cat.tracmip()"
   ]
  },
  {
   "cell_type": "markdown",
   "metadata": {},
   "source": [
    "## Load aquaplanet monthly data for ts (surface temperature) and pr (precipitation) into a dataset dictionary"
   ]
  },
  {
   "cell_type": "code",
   "execution_count": 4,
   "metadata": {},
   "outputs": [
    {
     "name": "stdout",
     "output_type": "stream",
     "text": [
      "Progress: |███████████████████████████████████████████████████████████████████████████████| 100.0% \n",
      "\n",
      "--> The keys in the returned dictionary of datasets are constructed as follows:\n",
      "\t'model.experiment.frequency'\n",
      "             \n",
      "--> There are 28 group(s)\n"
     ]
    }
   ],
   "source": [
    "ds_dict = col.search(frequency='Amon', experiment=['aquaControl', 'aqua4xCO2', 'aquaAbs15'],\n",
    "                     variable=['ts','pr']).to_dataset_dict(zarr_kwargs={'consolidated': True})"
   ]
  },
  {
   "cell_type": "code",
   "execution_count": 5,
   "metadata": {},
   "outputs": [],
   "source": [
    "# uncomment the following line to check content of dataset dictionary ds_dict\n",
    "# ds_dict.keys()"
   ]
  },
  {
   "cell_type": "code",
   "execution_count": 6,
   "metadata": {},
   "outputs": [],
   "source": [
    "# lists of models\n",
    "models = list(col.df.model.unique())"
   ]
  },
  {
   "cell_type": "markdown",
   "metadata": {},
   "source": [
    "## Calculate global-mean surface temperature for each model and experiment, and print to screen\n",
    "\n",
    "These values can be compared to Tab. 4 of Voigt et al., 2016, where the aqua4xCO2 values are given as the difference to the aquaControl values."
   ]
  },
  {
   "cell_type": "code",
   "execution_count": 7,
   "metadata": {},
   "outputs": [
    {
     "name": "stdout",
     "output_type": "stream",
     "text": [
      "AM21 aquaControl: 300.7 response to 4xCO2: 6.7\n",
      "CAM4 aquaControl: 295.1 response to 4xCO2: 4.7\n",
      "CAM5Nor aquaControl: 290.4 response to 4xCO2: 3.1\n",
      "CNRM-AM5 aquaControl: 295.2 response to 4xCO2: 6.7\n",
      "ECHAM61 aquaControl: 295.3 response to 4xCO2: 9.6\n",
      "ECHAM63 aquaControl: 293.7 response to 4xCO2: 7.8\n",
      "GISS-ModelE2 aquaControl: 295.0 response to 4xCO2: 4.9\n",
      "MIROC5 aquaControl: 291.4 response to 4xCO2: 3.8\n",
      "MPAS aquaControl: 296.8 response to 4xCO2: 2.9\n",
      "MetUM-CTL aquaControl: 297.2 response to 4xCO2: 7.6\n",
      "MetUM-ENT aquaControl: 295.6 response to 4xCO2: 7.2\n",
      "CAM3 aquaControl: 293.8 response to 4xCO2: 3.7\n",
      "LMDZ5A aquaControl: 292.1 response to 4xCO2: 7.0\n",
      "CALTECH aquaControl: 291.3 response to 4xCO2: 6.5\n"
     ]
    }
   ],
   "source": [
    "# helper function to calculate global mean\n",
    "def get_tsmean(data):\n",
    "    # time-mean and zonal-mean first\n",
    "    data_tmzm = data.mean(['time','lon'])\n",
    "    # mean over latitude, using xarray weighted mean functionality\n",
    "    # note: need at least xarray 0.15.1, 0.15.0 throws weighted attribute error\n",
    "    weights = np.cos(np.deg2rad(data_tmzm.lat))\n",
    "    weights.name = \"weights\"\n",
    "    return data_tmzm.weighted(weights).mean('lat').values\n",
    "    \n",
    "# calculate global-mean surface temperature, only use last 20 years, and print to screen\n",
    "for mod in models:\n",
    "    ts_aqctl = get_tsmean(ds_dict[mod+'.aquaControl.Amon']['ts'][-240:,:,:])\n",
    "    for exp in ['aqua4xCO2', 'aquaAbs15']: # for CALTECH, aqua4xCO2 is given by aquaAbs15\n",
    "        if mod+'.'+exp+'.Amon' in ds_dict.keys(): # checks that data for either aqua4xCO2 or aquaAbs15 is available\n",
    "            ts_aq4x = get_tsmean(ds_dict[mod+'.'+exp+'.Amon']['ts'][-240:,:,:])\n",
    "    # print to screen: aquaControl value and response to 4xCO2\n",
    "    print(mod, 'aquaControl:'      , np.round(ts_aqctl, decimals=1), \n",
    "               'response to 4xCO2:', np.round(ts_aq4x-ts_aqctl, decimals=1))"
   ]
  },
  {
   "cell_type": "markdown",
   "metadata": {},
   "source": [
    "## Now also calculate ITCZ position\n",
    "\n",
    "Again, these values can be compared to Tab. 4 of Voigt et al., 2016, where the aqua4xCO2 values are given as the difference to the aquaControl values.\n",
    "\n",
    "Note: the ITCZ is defined as the precipitation centroid between 30S/N, where the centroid is understood as the latitude for which \n",
    "the same amount of area-integrated precipitation falls north and south of it. Other studies have used the centroid as a precipitaiton- and area-weighted mean of latitude (e.g., Eq.1a of Adam et al., 2016, J. Climate, doi: 10.1175/JCLI-D-15-0512.1) and have also taken other latitudional boundaries (e.g., 20S/N). This might impact the diagnosed ITCZ positions."
   ]
  },
  {
   "cell_type": "code",
   "execution_count": 8,
   "metadata": {},
   "outputs": [
    {
     "name": "stdout",
     "output_type": "stream",
     "text": [
      "AM21 aquaControl: 10.7 response to 4xCO2: -0.4\n",
      "CAM4 aquaControl: 2.8 response to 4xCO2: 1.1\n",
      "CAM5Nor aquaControl: 4.0 response to 4xCO2: 0.4\n",
      "CNRM-AM5 aquaControl: 1.8 response to 4xCO2: 2.3\n",
      "ECHAM61 aquaControl: 4.5 response to 4xCO2: 7.7\n",
      "ECHAM63 aquaControl: 3.6 response to 4xCO2: 1.5\n",
      "GISS-ModelE2 aquaControl: 2.6 response to 4xCO2: 2.3\n",
      "MIROC5 aquaControl: 2.0 response to 4xCO2: 0.1\n",
      "MPAS aquaControl: 2.5 response to 4xCO2: 1.0\n",
      "MetUM-CTL aquaControl: 5.6 response to 4xCO2: 5.5\n",
      "MetUM-ENT aquaControl: 5.2 response to 4xCO2: 4.1\n",
      "CAM3 aquaControl: 2.0 response to 4xCO2: -0.3\n",
      "LMDZ5A aquaControl: 4.3 response to 4xCO2: 4.0\n",
      "CALTECH aquaControl: 0.8 response to 4xCO2: -0.0\n"
     ]
    }
   ],
   "source": [
    "# helper function to calculate ITCZ\n",
    "def get_itcz(pr, lat):\n",
    "    # input\n",
    "    # pr: time-mean zonal-mean precipitation\n",
    "    # lat: latitude \n",
    "    latboundary = 30.0 # latitude boundaries for region in which precip is considered\n",
    "    dlat = 0.01        # latitude spacing of finer grid \n",
    "    # make sure that lat increases from SP to NP\n",
    "    if lat[0]>lat[1]:\n",
    "        lat = lat[::-1]\n",
    "        pr  = pr [::-1]\n",
    "    # interpolate lat and pr on finer dlat grid\n",
    "    lati  = np.arange(-latboundary, latboundary, dlat)\n",
    "    pri   = np.interp(lati, lat, pr)\n",
    "    areai = np.cos(lati*np.pi/180)\n",
    "    # area-integrated precip (up to constant factor)\n",
    "    tot = np.sum(pri*areai)\n",
    "    # integrated pri from -latboundary to lati\n",
    "    pri_int = np.zeros(lati.size) + np.nan\n",
    "    for j in range(0, lati.size):\n",
    "        pri_int[j] = np.sum(pri[0:j+1]*areai[0:j+1])\n",
    "    itcz = lati[np.argmin(np.abs(pri_int - 0.5*tot))]\n",
    "    return itcz\n",
    "\n",
    "# calculate time-mean, zonal-mean ITCZ, only use last 20 years, and print to screen\n",
    "for mod in models:\n",
    "    itcz_aqctl = get_itcz(ds_dict[mod+'.aquaControl.Amon']['pr'][-240:,:,:].mean(['time','lon']).values, \n",
    "                          ds_dict[mod+'.aquaControl.Amon']['pr'].lat.values)\n",
    "    for exp in ['aqua4xCO2', 'aquaAbs15']: # for CALTECH, aqua4xCO2 is given by aquaAbs15\n",
    "        if mod+'.'+exp+'.Amon' in ds_dict.keys(): # checks that data for either aqua4xCO2 or aquaAbs15 is available\n",
    "            itcz_aq4x = get_itcz(ds_dict[mod+'.'+exp+'.Amon']['pr'][-240:,:,:].mean(['time','lon']).values,\n",
    "                                 ds_dict[mod+'.aquaControl.Amon']['pr'].lat.values)\n",
    "    # print to screen: aquaControl value and response to 4xCO2\n",
    "    print(mod, 'aquaControl:'      , np.round(itcz_aqctl, decimals=1), \n",
    "               'response to 4xCO2:', np.round(itcz_aq4x-itcz_aqctl, decimals=1))"
   ]
  }
 ],
 "metadata": {
  "kernelspec": {
   "display_name": "Python 3",
   "language": "python",
   "name": "python3"
  },
  "language_info": {
   "codemirror_mode": {
    "name": "ipython",
    "version": 3
   },
   "file_extension": ".py",
   "mimetype": "text/x-python",
   "name": "python",
   "nbconvert_exporter": "python",
   "pygments_lexer": "ipython3",
   "version": "3.7.4"
  }
 },
 "nbformat": 4,
 "nbformat_minor": 4
}
