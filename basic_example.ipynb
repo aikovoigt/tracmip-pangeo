{
 "cells": [
  {
   "cell_type": "markdown",
   "metadata": {},
   "source": [
    "# Basic example\n",
    "\n",
    "1. \"load\" the Tracmip collection \n",
    "2. get some basic info on Tracmip collection\n",
    "3. load monthly mean precip for the aquaControl simulation\n",
    "4. plot meridional zonal-mean time-mean profile for one model"
   ]
  },
  {
   "cell_type": "markdown",
   "metadata": {},
   "source": [
    "## 1. \"Load\" Tracmip collection"
   ]
  },
  {
   "cell_type": "code",
   "execution_count": 1,
   "metadata": {},
   "outputs": [],
   "source": [
    "from intake import open_catalog\n",
    "\n",
    "# get whole pangeo catalogue\n",
    "cat = open_catalog(\"https://raw.githubusercontent.com/pangeo-data/pangeo-datastore/master/intake-catalogs/climate.yaml\")\n",
    "# selet tracmip collection\n",
    "col = cat.tracmip()"
   ]
  },
  {
   "cell_type": "markdown",
   "metadata": {},
   "source": [
    "## 2. Basic info on the collection"
   ]
  },
  {
   "cell_type": "markdown",
   "metadata": {},
   "source": [
    "print collection to screen: this shows that there is 3 output frequencies (monthly-mean, daily-mean, 3-hr snapshots), \n",
    "11 experiments (6 are due to the CALTECH model with changed atmosperic opacity), and 47 variables"
   ]
  },
  {
   "cell_type": "code",
   "execution_count": 2,
   "metadata": {},
   "outputs": [
    {
     "data": {
      "text/plain": [
       "pangeo-tracmip-ESM Collection with 7067 entries:\n",
       "\t> 3 frequency(s)\n",
       "\n",
       "\t> 11 experiment(s)\n",
       "\n",
       "\t> 14 model(s)\n",
       "\n",
       "\t> 47 variable(s)\n",
       "\n",
       "\t> 10 version(s)\n",
       "\n",
       "\t> 7067 source(s)"
      ]
     },
     "execution_count": 2,
     "metadata": {},
     "output_type": "execute_result"
    }
   ],
   "source": [
    "col"
   ]
  },
  {
   "cell_type": "markdown",
   "metadata": {},
   "source": [
    "print starting and end portion of the collection"
   ]
  },
  {
   "cell_type": "code",
   "execution_count": 3,
   "metadata": {},
   "outputs": [
    {
     "data": {
      "text/html": [
       "<div>\n",
       "<style scoped>\n",
       "    .dataframe tbody tr th:only-of-type {\n",
       "        vertical-align: middle;\n",
       "    }\n",
       "\n",
       "    .dataframe tbody tr th {\n",
       "        vertical-align: top;\n",
       "    }\n",
       "\n",
       "    .dataframe thead th {\n",
       "        text-align: right;\n",
       "    }\n",
       "</style>\n",
       "<table border=\"1\" class=\"dataframe\">\n",
       "  <thead>\n",
       "    <tr style=\"text-align: right;\">\n",
       "      <th></th>\n",
       "      <th>frequency</th>\n",
       "      <th>experiment</th>\n",
       "      <th>model</th>\n",
       "      <th>variable</th>\n",
       "      <th>version</th>\n",
       "      <th>source</th>\n",
       "    </tr>\n",
       "  </thead>\n",
       "  <tbody>\n",
       "    <tr>\n",
       "      <td>0</td>\n",
       "      <td>A3hr</td>\n",
       "      <td>aqua4xCO2</td>\n",
       "      <td>AM21</td>\n",
       "      <td>hur</td>\n",
       "      <td>v20190116</td>\n",
       "      <td>gs://cmip6/tracmip/A3hr/aqua4xCO2/AM21/hur/v20...</td>\n",
       "    </tr>\n",
       "    <tr>\n",
       "      <td>1</td>\n",
       "      <td>A3hr</td>\n",
       "      <td>aqua4xCO2</td>\n",
       "      <td>AM21</td>\n",
       "      <td>hus</td>\n",
       "      <td>v20190116</td>\n",
       "      <td>gs://cmip6/tracmip/A3hr/aqua4xCO2/AM21/hus/v20...</td>\n",
       "    </tr>\n",
       "    <tr>\n",
       "      <td>2</td>\n",
       "      <td>A3hr</td>\n",
       "      <td>aqua4xCO2</td>\n",
       "      <td>AM21</td>\n",
       "      <td>ta</td>\n",
       "      <td>v20190116</td>\n",
       "      <td>gs://cmip6/tracmip/A3hr/aqua4xCO2/AM21/ta/v201...</td>\n",
       "    </tr>\n",
       "    <tr>\n",
       "      <td>3</td>\n",
       "      <td>A3hr</td>\n",
       "      <td>aqua4xCO2</td>\n",
       "      <td>AM21</td>\n",
       "      <td>ua</td>\n",
       "      <td>v20190116</td>\n",
       "      <td>gs://cmip6/tracmip/A3hr/aqua4xCO2/AM21/ua/v201...</td>\n",
       "    </tr>\n",
       "    <tr>\n",
       "      <td>4</td>\n",
       "      <td>A3hr</td>\n",
       "      <td>aqua4xCO2</td>\n",
       "      <td>AM21</td>\n",
       "      <td>va</td>\n",
       "      <td>v20190116</td>\n",
       "      <td>gs://cmip6/tracmip/A3hr/aqua4xCO2/AM21/va/v201...</td>\n",
       "    </tr>\n",
       "  </tbody>\n",
       "</table>\n",
       "</div>"
      ],
      "text/plain": [
       "  frequency experiment model variable    version  \\\n",
       "0      A3hr  aqua4xCO2  AM21      hur  v20190116   \n",
       "1      A3hr  aqua4xCO2  AM21      hus  v20190116   \n",
       "2      A3hr  aqua4xCO2  AM21       ta  v20190116   \n",
       "3      A3hr  aqua4xCO2  AM21       ua  v20190116   \n",
       "4      A3hr  aqua4xCO2  AM21       va  v20190116   \n",
       "\n",
       "                                              source  \n",
       "0  gs://cmip6/tracmip/A3hr/aqua4xCO2/AM21/hur/v20...  \n",
       "1  gs://cmip6/tracmip/A3hr/aqua4xCO2/AM21/hus/v20...  \n",
       "2  gs://cmip6/tracmip/A3hr/aqua4xCO2/AM21/ta/v201...  \n",
       "3  gs://cmip6/tracmip/A3hr/aqua4xCO2/AM21/ua/v201...  \n",
       "4  gs://cmip6/tracmip/A3hr/aqua4xCO2/AM21/va/v201...  "
      ]
     },
     "execution_count": 3,
     "metadata": {},
     "output_type": "execute_result"
    }
   ],
   "source": [
    "col.df.head()"
   ]
  },
  {
   "cell_type": "code",
   "execution_count": 4,
   "metadata": {},
   "outputs": [
    {
     "data": {
      "text/html": [
       "<div>\n",
       "<style scoped>\n",
       "    .dataframe tbody tr th:only-of-type {\n",
       "        vertical-align: middle;\n",
       "    }\n",
       "\n",
       "    .dataframe tbody tr th {\n",
       "        vertical-align: top;\n",
       "    }\n",
       "\n",
       "    .dataframe thead th {\n",
       "        text-align: right;\n",
       "    }\n",
       "</style>\n",
       "<table border=\"1\" class=\"dataframe\">\n",
       "  <thead>\n",
       "    <tr style=\"text-align: right;\">\n",
       "      <th></th>\n",
       "      <th>frequency</th>\n",
       "      <th>experiment</th>\n",
       "      <th>model</th>\n",
       "      <th>variable</th>\n",
       "      <th>version</th>\n",
       "      <th>source</th>\n",
       "    </tr>\n",
       "  </thead>\n",
       "  <tbody>\n",
       "    <tr>\n",
       "      <td>7062</td>\n",
       "      <td>Amon</td>\n",
       "      <td>landOrbit</td>\n",
       "      <td>MetUM-ENT</td>\n",
       "      <td>uas</td>\n",
       "      <td>v20180423</td>\n",
       "      <td>gs://cmip6/tracmip/Amon/landOrbit/MetUM-ENT/ua...</td>\n",
       "    </tr>\n",
       "    <tr>\n",
       "      <td>7063</td>\n",
       "      <td>Amon</td>\n",
       "      <td>landOrbit</td>\n",
       "      <td>MetUM-ENT</td>\n",
       "      <td>va</td>\n",
       "      <td>v20180423</td>\n",
       "      <td>gs://cmip6/tracmip/Amon/landOrbit/MetUM-ENT/va...</td>\n",
       "    </tr>\n",
       "    <tr>\n",
       "      <td>7064</td>\n",
       "      <td>Amon</td>\n",
       "      <td>landOrbit</td>\n",
       "      <td>MetUM-ENT</td>\n",
       "      <td>vas</td>\n",
       "      <td>v20180423</td>\n",
       "      <td>gs://cmip6/tracmip/Amon/landOrbit/MetUM-ENT/va...</td>\n",
       "    </tr>\n",
       "    <tr>\n",
       "      <td>7065</td>\n",
       "      <td>Amon</td>\n",
       "      <td>landOrbit</td>\n",
       "      <td>MetUM-ENT</td>\n",
       "      <td>wap</td>\n",
       "      <td>v20180423</td>\n",
       "      <td>gs://cmip6/tracmip/Amon/landOrbit/MetUM-ENT/wa...</td>\n",
       "    </tr>\n",
       "    <tr>\n",
       "      <td>7066</td>\n",
       "      <td>Amon</td>\n",
       "      <td>landOrbit</td>\n",
       "      <td>MetUM-ENT</td>\n",
       "      <td>zg</td>\n",
       "      <td>v20180423</td>\n",
       "      <td>gs://cmip6/tracmip/Amon/landOrbit/MetUM-ENT/zg...</td>\n",
       "    </tr>\n",
       "  </tbody>\n",
       "</table>\n",
       "</div>"
      ],
      "text/plain": [
       "     frequency experiment      model variable    version  \\\n",
       "7062      Amon  landOrbit  MetUM-ENT      uas  v20180423   \n",
       "7063      Amon  landOrbit  MetUM-ENT       va  v20180423   \n",
       "7064      Amon  landOrbit  MetUM-ENT      vas  v20180423   \n",
       "7065      Amon  landOrbit  MetUM-ENT      wap  v20180423   \n",
       "7066      Amon  landOrbit  MetUM-ENT       zg  v20180423   \n",
       "\n",
       "                                                 source  \n",
       "7062  gs://cmip6/tracmip/Amon/landOrbit/MetUM-ENT/ua...  \n",
       "7063  gs://cmip6/tracmip/Amon/landOrbit/MetUM-ENT/va...  \n",
       "7064  gs://cmip6/tracmip/Amon/landOrbit/MetUM-ENT/va...  \n",
       "7065  gs://cmip6/tracmip/Amon/landOrbit/MetUM-ENT/wa...  \n",
       "7066  gs://cmip6/tracmip/Amon/landOrbit/MetUM-ENT/zg...  "
      ]
     },
     "execution_count": 4,
     "metadata": {},
     "output_type": "execute_result"
    }
   ],
   "source": [
    "col.df.tail()"
   ]
  },
  {
   "cell_type": "markdown",
   "metadata": {},
   "source": [
    "print some further information on the collection (i.e., dataframe)"
   ]
  },
  {
   "cell_type": "code",
   "execution_count": 5,
   "metadata": {},
   "outputs": [
    {
     "data": {
      "text/plain": [
       "Index(['frequency', 'experiment', 'model', 'variable', 'version', 'source'], dtype='object')"
      ]
     },
     "execution_count": 5,
     "metadata": {},
     "output_type": "execute_result"
    }
   ],
   "source": [
    "col.df.columns.unique()"
   ]
  },
  {
   "cell_type": "code",
   "execution_count": 6,
   "metadata": {},
   "outputs": [
    {
     "data": {
      "text/plain": [
       "array(['AM21', 'CAM4', 'CAM5Nor', 'CNRM-AM5', 'ECHAM61', 'ECHAM63',\n",
       "       'GISS-ModelE2', 'MIROC5', 'MPAS', 'MetUM-CTL', 'MetUM-ENT', 'CAM3',\n",
       "       'LMDZ5A', 'CALTECH'], dtype=object)"
      ]
     },
     "execution_count": 6,
     "metadata": {},
     "output_type": "execute_result"
    }
   ],
   "source": [
    "col.df.model.unique()\n"
   ]
  },
  {
   "cell_type": "code",
   "execution_count": 7,
   "metadata": {},
   "outputs": [
    {
     "data": {
      "text/plain": [
       "array(['aqua4xCO2', 'aquaControl', 'land4xCO2', 'landControl',\n",
       "       'landOrbit', 'aquaAbs07', 'aquaAbs15', 'aquaAbs20', 'landAbs07',\n",
       "       'landAbs15', 'landAbs20'], dtype=object)"
      ]
     },
     "execution_count": 7,
     "metadata": {},
     "output_type": "execute_result"
    }
   ],
   "source": [
    "col.df.experiment.unique()"
   ]
  },
  {
   "cell_type": "markdown",
   "metadata": {},
   "source": [
    "## 3. Now actually load the monthly-mean precip data for the aquaControl experiment, use a dictionary for this"
   ]
  },
  {
   "cell_type": "markdown",
   "metadata": {},
   "source": [
    "note: the option \"zarr_kwargs={'consolidated': True}\" for to_dataset_dicts does not seem necessary but is still included here"
   ]
  },
  {
   "cell_type": "code",
   "execution_count": 8,
   "metadata": {},
   "outputs": [
    {
     "name": "stdout",
     "output_type": "stream",
     "text": [
      "Progress: |███████████████████████████████████████████████████████████████████████████████| 100.0% \n",
      "\n",
      "--> The keys in the returned dictionary of datasets are constructed as follows:\n",
      "\t'model.experiment.frequency'\n",
      "             \n",
      "--> There are 14 group(s)\n"
     ]
    }
   ],
   "source": [
    "ds_dict = col.search(frequency=\"Amon\", experiment=\"aquaControl\",\n",
    "                     variable=\"pr\").to_dataset_dict(zarr_kwargs={'consolidated': True})"
   ]
  },
  {
   "cell_type": "markdown",
   "metadata": {},
   "source": [
    "## 4. Plot zonal-mean time-mean precip for last 20 years for CNRM-AM5 model"
   ]
  },
  {
   "cell_type": "code",
   "execution_count": 9,
   "metadata": {},
   "outputs": [],
   "source": [
    "import matplotlib.pyplot as plt"
   ]
  },
  {
   "cell_type": "code",
   "execution_count": 10,
   "metadata": {},
   "outputs": [
    {
     "data": {
      "text/html": [
       "<pre>&lt;xarray.DataArray &#x27;pr&#x27; (time: 360, lat: 128, lon: 256)&gt;\n",
       "dask.array&lt;zarr, shape=(360, 128, 256), dtype=float32, chunksize=(360, 128, 256), chunktype=numpy.ndarray&gt;\n",
       "Coordinates:\n",
       "  * lat      (lat) float64 -88.93 -87.54 -86.14 -84.74 ... 86.14 87.54 88.93\n",
       "  * lon      (lon) float64 0.0 1.406 2.812 4.219 ... 354.4 355.8 357.2 358.6\n",
       "  * time     (time) datetime64[ns] 1979-01-16T12:00:00 ... 2008-12-16T12:00:00\n",
       "Attributes:\n",
       "    associated_files:  baseURL: https://www.sites.google.com/site/tracmip/ gr...\n",
       "    cell_measures:     area: areacella\n",
       "    cell_methods:      time: mean\n",
       "    comment:           at surface; includes both liquid and solid phases from...\n",
       "    long_name:         Precipitation\n",
       "    original_name:     pr\n",
       "    standard_name:     precipitation_flux\n",
       "    units:             kg m-2 s-1</pre>"
      ],
      "text/plain": [
       "<xarray.DataArray 'pr' (time: 360, lat: 128, lon: 256)>\n",
       "dask.array<zarr, shape=(360, 128, 256), dtype=float32, chunksize=(360, 128, 256), chunktype=numpy.ndarray>\n",
       "Coordinates:\n",
       "  * lat      (lat) float64 -88.93 -87.54 -86.14 -84.74 ... 86.14 87.54 88.93\n",
       "  * lon      (lon) float64 0.0 1.406 2.812 4.219 ... 354.4 355.8 357.2 358.6\n",
       "  * time     (time) datetime64[ns] 1979-01-16T12:00:00 ... 2008-12-16T12:00:00\n",
       "Attributes:\n",
       "    associated_files:  baseURL: https://www.sites.google.com/site/tracmip/ gr...\n",
       "    cell_measures:     area: areacella\n",
       "    cell_methods:      time: mean\n",
       "    comment:           at surface; includes both liquid and solid phases from...\n",
       "    long_name:         Precipitation\n",
       "    original_name:     pr\n",
       "    standard_name:     precipitation_flux\n",
       "    units:             kg m-2 s-1"
      ]
     },
     "execution_count": 10,
     "metadata": {},
     "output_type": "execute_result"
    }
   ],
   "source": [
    "ds_dict['CNRM-AM5.aquaControl.Amon']['pr']"
   ]
  },
  {
   "cell_type": "code",
   "execution_count": 11,
   "metadata": {},
   "outputs": [
    {
     "data": {
      "text/plain": [
       "Text(0.5, 1.0, 'CNRM-AM5.aquaControl.Amon')"
      ]
     },
     "execution_count": 11,
     "metadata": {},
     "output_type": "execute_result"
    },
    {
     "data": {
      "image/png": "[encoded data removed]",
      "text/plain": [
       "<Figure size 432x288 with 1 Axes>"
      ]
     },
     "metadata": {
      "needs_background": "light"
     },
     "output_type": "display_data"
    }
   ],
   "source": [
    "plt.plot(ds_dict['CNRM-AM5.aquaControl.Amon'].lat, \n",
    "         ds_dict['CNRM-AM5.aquaControl.Amon']['pr'].isel(time=slice(120,360)).mean(['lon', 'time'])*86400)\n",
    "plt.xlabel('degree latitude')\n",
    "plt.ylabel('precipitation (mm/day)')\n",
    "plt.title('CNRM-AM5.aquaControl.Amon')"
   ]
  }
 ],
 "metadata": {
  "kernelspec": {
   "display_name": "Python 3",
   "language": "python",
   "name": "python3"
  },
  "language_info": {
   "codemirror_mode": {
    "name": "ipython",
    "version": 3
   },
   "file_extension": ".py",
   "mimetype": "text/x-python",
   "name": "python",
   "nbconvert_exporter": "python",
   "pygments_lexer": "ipython3",
   "version": "3.7.4"
  }
 },
 "nbformat": 4,
 "nbformat_minor": 4
}
